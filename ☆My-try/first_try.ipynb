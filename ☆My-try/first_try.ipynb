{
 "cells": [
  {
   "cell_type": "code",
   "execution_count": 3,
   "metadata": {},
   "outputs": [
    {
     "data": {
      "text/plain": [
       "'e:\\\\CodeProject\\\\python\\\\OpenMMLab\\\\Mymmsegmentation\\\\☆My-try'"
      ]
     },
     "execution_count": 3,
     "metadata": {},
     "output_type": "execute_result"
    }
   ],
   "source": [
    "%pwd"
   ]
  },
  {
   "cell_type": "code",
   "execution_count": 4,
   "metadata": {},
   "outputs": [
    {
     "name": "stdout",
     "output_type": "stream",
     "text": [
      "e:\\CodeProject\\python\\OpenMMLab\\Mymmsegmentation\n"
     ]
    }
   ],
   "source": [
    "%cd .."
   ]
  },
  {
   "cell_type": "code",
   "execution_count": 5,
   "metadata": {},
   "outputs": [
    {
     "data": {
      "text/plain": [
       "'e:\\\\CodeProject\\\\python\\\\OpenMMLab\\\\Mymmsegmentation'"
      ]
     },
     "execution_count": 5,
     "metadata": {},
     "output_type": "execute_result"
    }
   ],
   "source": [
    "%pwd"
   ]
  },
  {
   "cell_type": "code",
   "execution_count": 6,
   "metadata": {},
   "outputs": [
    {
     "name": "stdout",
     "output_type": "stream",
     "text": [
      "Using pip 23.0.1 from c:\\Users\\Code'Z\\.conda\\envs\\openmmlab\\lib\\site-packages\\pip (python 3.9)\n",
      "Obtaining file:///E:/CodeProject/python/OpenMMLab/Mymmsegmentation\n",
      "  Preparing metadata (setup.py): started\n",
      "  Preparing metadata (setup.py): finished with status 'done'\n",
      "Requirement already satisfied: matplotlib in c:\\users\\code'z\\.conda\\envs\\openmmlab\\lib\\site-packages (from mmsegmentation==1.0.0) (3.7.1)\n",
      "Requirement already satisfied: numpy in c:\\users\\code'z\\.conda\\envs\\openmmlab\\lib\\site-packages (from mmsegmentation==1.0.0) (1.23.5)\n",
      "Requirement already satisfied: packaging in c:\\users\\code'z\\.conda\\envs\\openmmlab\\lib\\site-packages (from mmsegmentation==1.0.0) (23.1)\n",
      "Requirement already satisfied: prettytable in c:\\users\\code'z\\appdata\\roaming\\python\\python39\\site-packages (from mmsegmentation==1.0.0) (3.4.0)\n",
      "Requirement already satisfied: scipy in c:\\users\\code'z\\.conda\\envs\\openmmlab\\lib\\site-packages (from mmsegmentation==1.0.0) (1.10.1)\n",
      "Requirement already satisfied: cycler>=0.10 in c:\\users\\code'z\\.conda\\envs\\openmmlab\\lib\\site-packages (from matplotlib->mmsegmentation==1.0.0) (0.11.0)\n",
      "Requirement already satisfied: importlib-resources>=3.2.0 in c:\\users\\code'z\\appdata\\roaming\\python\\python39\\site-packages (from matplotlib->mmsegmentation==1.0.0) (5.12.0)\n",
      "Requirement already satisfied: pyparsing>=2.3.1 in c:\\users\\code'z\\.conda\\envs\\openmmlab\\lib\\site-packages (from matplotlib->mmsegmentation==1.0.0) (3.0.9)\n",
      "Requirement already satisfied: fonttools>=4.22.0 in c:\\users\\code'z\\.conda\\envs\\openmmlab\\lib\\site-packages (from matplotlib->mmsegmentation==1.0.0) (4.39.3)\n",
      "Requirement already satisfied: python-dateutil>=2.7 in c:\\users\\code'z\\.conda\\envs\\openmmlab\\lib\\site-packages (from matplotlib->mmsegmentation==1.0.0) (2.8.2)\n",
      "Requirement already satisfied: kiwisolver>=1.0.1 in c:\\users\\code'z\\.conda\\envs\\openmmlab\\lib\\site-packages (from matplotlib->mmsegmentation==1.0.0) (1.4.4)\n",
      "Requirement already satisfied: pillow>=6.2.0 in c:\\users\\code'z\\.conda\\envs\\openmmlab\\lib\\site-packages (from matplotlib->mmsegmentation==1.0.0) (9.4.0)\n",
      "Requirement already satisfied: contourpy>=1.0.1 in c:\\users\\code'z\\.conda\\envs\\openmmlab\\lib\\site-packages (from matplotlib->mmsegmentation==1.0.0) (1.0.7)\n",
      "Requirement already satisfied: wcwidth in c:\\users\\code'z\\.conda\\envs\\openmmlab\\lib\\site-packages (from prettytable->mmsegmentation==1.0.0) (0.2.6)\n",
      "Requirement already satisfied: zipp>=3.1.0 in c:\\users\\code'z\\.conda\\envs\\openmmlab\\lib\\site-packages (from importlib-resources>=3.2.0->matplotlib->mmsegmentation==1.0.0) (3.15.0)\n",
      "Requirement already satisfied: six>=1.5 in c:\\users\\code'z\\.conda\\envs\\openmmlab\\lib\\site-packages (from python-dateutil>=2.7->matplotlib->mmsegmentation==1.0.0) (1.16.0)\n",
      "Installing collected packages: mmsegmentation\n",
      "  Running setup.py develop for mmsegmentation\n",
      "Successfully installed mmsegmentation\n",
      "Note: you may need to restart the kernel to use updated packages.\n"
     ]
    },
    {
     "name": "stderr",
     "output_type": "stream",
     "text": [
      "  Running command python setup.py egg_info\n",
      "  running egg_info\n",
      "  creating C:\\Users\\Code'Z\\AppData\\Local\\Temp\\pip-pip-egg-info-q_eh1kxc\\mmsegmentation.egg-info\n",
      "  writing C:\\Users\\Code'Z\\AppData\\Local\\Temp\\pip-pip-egg-info-q_eh1kxc\\mmsegmentation.egg-info\\PKG-INFO\n",
      "  writing dependency_links to C:\\Users\\Code'Z\\AppData\\Local\\Temp\\pip-pip-egg-info-q_eh1kxc\\mmsegmentation.egg-info\\dependency_links.txt\n",
      "  writing requirements to C:\\Users\\Code'Z\\AppData\\Local\\Temp\\pip-pip-egg-info-q_eh1kxc\\mmsegmentation.egg-info\\requires.txt\n",
      "  writing top-level names to C:\\Users\\Code'Z\\AppData\\Local\\Temp\\pip-pip-egg-info-q_eh1kxc\\mmsegmentation.egg-info\\top_level.txt\n",
      "  writing manifest file 'C:\\Users\\Code'Z\\AppData\\Local\\Temp\\pip-pip-egg-info-q_eh1kxc\\mmsegmentation.egg-info\\SOURCES.txt'\n",
      "  reading manifest file 'C:\\Users\\Code'Z\\AppData\\Local\\Temp\\pip-pip-egg-info-q_eh1kxc\\mmsegmentation.egg-info\\SOURCES.txt'\n",
      "  reading manifest template 'MANIFEST.in'\n",
      "  adding license file 'LICENSE'\n",
      "  writing manifest file 'C:\\Users\\Code'Z\\AppData\\Local\\Temp\\pip-pip-egg-info-q_eh1kxc\\mmsegmentation.egg-info\\SOURCES.txt'\n",
      "    Running command python setup.py develop\n",
      "    running develop\n",
      "    c:\\Users\\Code'Z\\.conda\\envs\\openmmlab\\lib\\site-packages\\setuptools\\command\\easy_install.py:144: EasyInstallDeprecationWarning: easy_install command is deprecated. Use build and pip and other standards-based tools.\n",
      "      warnings.warn(\n",
      "    c:\\Users\\Code'Z\\.conda\\envs\\openmmlab\\lib\\site-packages\\setuptools\\command\\install.py:34: SetuptoolsDeprecationWarning: setup.py install is deprecated. Use build and pip and other standards-based tools.\n",
      "      warnings.warn(\n",
      "    running egg_info\n",
      "    creating mmsegmentation.egg-info\n",
      "    writing mmsegmentation.egg-info\\PKG-INFO\n",
      "    writing dependency_links to mmsegmentation.egg-info\\dependency_links.txt\n",
      "    writing requirements to mmsegmentation.egg-info\\requires.txt\n",
      "    writing top-level names to mmsegmentation.egg-info\\top_level.txt\n",
      "    writing manifest file 'mmsegmentation.egg-info\\SOURCES.txt'\n",
      "    reading manifest file 'mmsegmentation.egg-info\\SOURCES.txt'\n",
      "    reading manifest template 'MANIFEST.in'\n",
      "    adding license file 'LICENSE'\n",
      "    writing manifest file 'mmsegmentation.egg-info\\SOURCES.txt'\n",
      "    running build_ext\n",
      "    Creating c:\\users\\code'z\\.conda\\envs\\openmmlab\\lib\\site-packages\\mmsegmentation.egg-link (link to .)\n",
      "    Adding mmsegmentation 1.0.0 to easy-install.pth file\n",
      "\n",
      "    Installed e:\\codeproject\\python\\openmmlab\\mymmsegmentation\n"
     ]
    }
   ],
   "source": [
    "%pip install -v -e ."
   ]
  },
  {
   "cell_type": "code",
   "execution_count": 7,
   "metadata": {},
   "outputs": [
    {
     "name": "stdout",
     "output_type": "stream",
     "text": [
      "2.0.0 True\n"
     ]
    }
   ],
   "source": [
    "# 检查Pytorch版本\n",
    "import torch, torchvision\n",
    "print(torch.__version__, torch.cuda.is_available())\n"
   ]
  },
  {
   "cell_type": "code",
   "execution_count": 8,
   "metadata": {},
   "outputs": [
    {
     "name": "stdout",
     "output_type": "stream",
     "text": [
      "1.0.0\n"
     ]
    }
   ],
   "source": [
    "# Check MMSegmentation installation\n",
    "import mmseg\n",
    "print(mmseg.__version__)"
   ]
  },
  {
   "cell_type": "code",
   "execution_count": 9,
   "metadata": {},
   "outputs": [
    {
     "name": "stderr",
     "output_type": "stream",
     "text": [
      "e:\\CodeProject\\python\\OpenMMLab\\Mymmsegmentation\\mmseg\\models\\builder.py:36: UserWarning: ``build_loss`` would be deprecated soon, please use ``mmseg.registry.MODELS.build()`` \n",
      "  warnings.warn('``build_loss`` would be deprecated soon, please use '\n",
      "e:\\CodeProject\\python\\OpenMMLab\\Mymmsegmentation\\mmseg\\models\\losses\\cross_entropy_loss.py:235: UserWarning: Default ``avg_non_ignore`` is False, if you would like to ignore the certain label and average loss over non-ignore labels, which is the same with PyTorch official cross_entropy, set ``avg_non_ignore=True``.\n",
      "  warnings.warn(\n"
     ]
    },
    {
     "name": "stdout",
     "output_type": "stream",
     "text": [
      "Loads checkpoint by local backend from path: ☆My-try/download/pspnet_r50-d8_512x1024_40k_cityscapes_20200605_003338-2966598c.pth\n",
      "05/12 00:55:38 - mmengine - WARNING - `Visualizer` backend is not initialized because save_dir is None.\n"
     ]
    }
   ],
   "source": [
    "# demo验证推理\n",
    "%run demo/image_demo.py demo/demo.png ☆My-try/download/pspnet_r50-d8_4xb2-40k_cityscapes-512x1024.py ☆My-try/download/pspnet_r50-d8_512x1024_40k_cityscapes_20200605_003338-2966598c.pth --device cuda:0 --out-file result.jpg\n",
    "\n",
    "# 运行成功，根目录下出现对demo进行语义分割的推理结果result.jpg"
   ]
  }
 ],
 "metadata": {
  "kernelspec": {
   "display_name": "openmmlab",
   "language": "python",
   "name": "python3"
  },
  "language_info": {
   "codemirror_mode": {
    "name": "ipython",
    "version": 3
   },
   "file_extension": ".py",
   "mimetype": "text/x-python",
   "name": "python",
   "nbconvert_exporter": "python",
   "pygments_lexer": "ipython3",
   "version": "3.9.16"
  },
  "orig_nbformat": 4
 },
 "nbformat": 4,
 "nbformat_minor": 2
}
